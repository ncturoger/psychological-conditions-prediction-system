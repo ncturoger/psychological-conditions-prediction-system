{
 "cells": [
  {
   "cell_type": "code",
   "execution_count": 1,
   "metadata": {},
   "outputs": [
    {
     "name": "stderr",
     "output_type": "stream",
     "text": [
      "/anaconda3/anaconda3/lib/python3.6/site-packages/h5py/__init__.py:36: FutureWarning: Conversion of the second argument of issubdtype from `float` to `np.floating` is deprecated. In future, it will be treated as `np.float64 == np.dtype(float).type`.\n",
      "  from ._conv import register_converters as _register_converters\n",
      "Using TensorFlow backend.\n"
     ]
    }
   ],
   "source": [
    "from keras.models import load_model\n",
    "model = load_model('my_model.h5')"
   ]
  },
  {
   "cell_type": "code",
   "execution_count": 2,
   "metadata": {},
   "outputs": [],
   "source": [
    "import numpy\n",
    "import pandas as pd"
   ]
  },
  {
   "cell_type": "code",
   "execution_count": 3,
   "metadata": {},
   "outputs": [],
   "source": [
    "all_df = pd.read_csv(\"trainnosu.csv\")"
   ]
  },
  {
   "cell_type": "code",
   "execution_count": 4,
   "metadata": {},
   "outputs": [],
   "source": [
    "cols=['suicide', 'sexuality', 'age', 'Education', 'rank', 'militaryservice', 'Time','testResult','hadSuicideMessage', 'confirmedDisease','emotionalProblems', 'mentalillness', 'familySuicideHistory','familyMembers', 'workplacePressure', 'EconomicIssues','personalPressure']\n",
    "all_df=all_df[cols]"
   ]
  },
  {
   "cell_type": "code",
   "execution_count": 5,
   "metadata": {},
   "outputs": [],
   "source": [
    "def PreprocessData(raw_df):\n",
    "    all_df['sexuality'] = all_df['sexuality'].astype('category').cat.codes\n",
    "    all_df['Education'] = all_df['Education'].astype('category').cat.codes\n",
    "    all_df['rank'] = all_df['rank'].astype('category').cat.codes\n",
    "    all_df['militaryservice'] = all_df['militaryservice'].astype('category').cat.codes\n",
    "    all_df['Time'] = all_df['Time'].astype('category').cat.codes\n",
    "    all_df['testResult'] = all_df['testResult'].astype('category').cat.codes\n",
    "    #df['sexuality']= df['sexuality'].map({'female':0, 'male': 1}).astype(int)\n",
    "    #x_OneHot_df = pd.get_dummies(data=df,columns=[\"Embarked\" ])\n",
    "\n",
    "    #ndarray = x_OneHot_df.values\n",
    "    ndarray = all_df.values\n",
    "    Features = ndarray[:,1:]\n",
    "    Label = ndarray[:,0]\n",
    "    from sklearn import preprocessing\n",
    "    minmax_scale = preprocessing.MinMaxScaler(feature_range=(0, 1))\n",
    "    scaledFeatures = minmax_scale.fit_transform(Features)    \n",
    "    \n",
    "    return scaledFeatures,Label"
   ]
  },
  {
   "cell_type": "code",
   "execution_count": 6,
   "metadata": {},
   "outputs": [
    {
     "ename": "NameError",
     "evalue": "name 'train_df' is not defined",
     "output_type": "error",
     "traceback": [
      "\u001b[0;31m---------------------------------------------------------------------------\u001b[0m",
      "\u001b[0;31mNameError\u001b[0m                                 Traceback (most recent call last)",
      "\u001b[0;32m<ipython-input-6-22012de34e8a>\u001b[0m in \u001b[0;36m<module>\u001b[0;34m()\u001b[0m\n\u001b[0;32m----> 1\u001b[0;31m \u001b[0mtrain_Features\u001b[0m\u001b[0;34m,\u001b[0m\u001b[0mtrain_Label\u001b[0m\u001b[0;34m=\u001b[0m\u001b[0mPreprocessData\u001b[0m\u001b[0;34m(\u001b[0m\u001b[0mtrain_df\u001b[0m\u001b[0;34m)\u001b[0m\u001b[0;34m\u001b[0m\u001b[0;34m\u001b[0m\u001b[0m\n\u001b[0m\u001b[1;32m      2\u001b[0m \u001b[0mtest_Features\u001b[0m\u001b[0;34m,\u001b[0m\u001b[0mtest_Label\u001b[0m\u001b[0;34m=\u001b[0m\u001b[0mPreprocessData\u001b[0m\u001b[0;34m(\u001b[0m\u001b[0mtest_df\u001b[0m\u001b[0;34m)\u001b[0m\u001b[0;34m\u001b[0m\u001b[0;34m\u001b[0m\u001b[0m\n",
      "\u001b[0;31mNameError\u001b[0m: name 'train_df' is not defined"
     ]
    }
   ],
   "source": [
    "train_Features,train_Label=PreprocessData(train_df)\n",
    "test_Features,test_Label=PreprocessData(test_df)"
   ]
  },
  {
   "cell_type": "code",
   "execution_count": null,
   "metadata": {},
   "outputs": [],
   "source": [
    "scores = model.evaluate(x=test_Features, \n",
    "                        y=test_Label)"
   ]
  },
  {
   "cell_type": "code",
   "execution_count": null,
   "metadata": {},
   "outputs": [],
   "source": [
    "scores[1]"
   ]
  },
  {
   "cell_type": "code",
   "execution_count": null,
   "metadata": {},
   "outputs": [],
   "source": [
    "jack = [0,'male',20,'s','soldier','c','M','mediumHeightCareType',0,0,0,1,1,0,1,0,1]"
   ]
  },
  {
   "cell_type": "code",
   "execution_count": null,
   "metadata": {},
   "outputs": [],
   "source": [
    "jack_df = pd.DataFrame([list(jack)],columns = ['suicide', 'sexuality', 'age', 'Education', 'rank', 'militaryservice', 'Time','testResult', 'hadSuicideMessage', 'confirmedDisease','emotionalProblems', 'mentalillness', 'familySuicideHistory','familyMembers', 'workplacePressure', 'EconomicIssues','personalPressure'])"
   ]
  },
  {
   "cell_type": "code",
   "execution_count": null,
   "metadata": {},
   "outputs": [],
   "source": [
    "all_df = pd.concat([all_df,jack_df])"
   ]
  },
  {
   "cell_type": "code",
   "execution_count": 7,
   "metadata": {},
   "outputs": [
    {
     "data": {
      "text/html": [
       "<div>\n",
       "<style scoped>\n",
       "    .dataframe tbody tr th:only-of-type {\n",
       "        vertical-align: middle;\n",
       "    }\n",
       "\n",
       "    .dataframe tbody tr th {\n",
       "        vertical-align: top;\n",
       "    }\n",
       "\n",
       "    .dataframe thead th {\n",
       "        text-align: right;\n",
       "    }\n",
       "</style>\n",
       "<table border=\"1\" class=\"dataframe\">\n",
       "  <thead>\n",
       "    <tr style=\"text-align: right;\">\n",
       "      <th></th>\n",
       "      <th>suicide</th>\n",
       "      <th>sexuality</th>\n",
       "      <th>age</th>\n",
       "      <th>Education</th>\n",
       "      <th>rank</th>\n",
       "      <th>militaryservice</th>\n",
       "      <th>Time</th>\n",
       "      <th>testResult</th>\n",
       "      <th>hadSuicideMessage</th>\n",
       "      <th>confirmedDisease</th>\n",
       "      <th>emotionalProblems</th>\n",
       "      <th>mentalillness</th>\n",
       "      <th>familySuicideHistory</th>\n",
       "      <th>familyMembers</th>\n",
       "      <th>workplacePressure</th>\n",
       "      <th>EconomicIssues</th>\n",
       "      <th>personalPressure</th>\n",
       "    </tr>\n",
       "  </thead>\n",
       "  <tbody>\n",
       "    <tr>\n",
       "      <th>1239</th>\n",
       "      <td>0</td>\n",
       "      <td>male</td>\n",
       "      <td>28</td>\n",
       "      <td>s</td>\n",
       "      <td>officer</td>\n",
       "      <td>v</td>\n",
       "      <td>L</td>\n",
       "      <td>D</td>\n",
       "      <td>0</td>\n",
       "      <td>0</td>\n",
       "      <td>1</td>\n",
       "      <td>0</td>\n",
       "      <td>0</td>\n",
       "      <td>0</td>\n",
       "      <td>0</td>\n",
       "      <td>0</td>\n",
       "      <td>0</td>\n",
       "    </tr>\n",
       "  </tbody>\n",
       "</table>\n",
       "</div>"
      ],
      "text/plain": [
       "      suicide sexuality  age Education     rank militaryservice Time  \\\n",
       "1239        0      male   28         s  officer               v    L   \n",
       "\n",
       "     testResult  hadSuicideMessage  confirmedDisease  emotionalProblems  \\\n",
       "1239          D                  0                 0                  1   \n",
       "\n",
       "      mentalillness  familySuicideHistory  familyMembers  workplacePressure  \\\n",
       "1239              0                     0              0                  0   \n",
       "\n",
       "      EconomicIssues  personalPressure  \n",
       "1239               0                 0  "
      ]
     },
     "execution_count": 7,
     "metadata": {},
     "output_type": "execute_result"
    }
   ],
   "source": [
    "all_df[-1:]"
   ]
  },
  {
   "cell_type": "code",
   "execution_count": 8,
   "metadata": {},
   "outputs": [
    {
     "name": "stderr",
     "output_type": "stream",
     "text": [
      "/anaconda3/anaconda3/lib/python3.6/site-packages/sklearn/utils/validation.py:590: DataConversionWarning: Data with input dtype int64 was converted to float64 by MinMaxScaler.\n",
      "  warnings.warn(msg, DataConversionWarning)\n"
     ]
    }
   ],
   "source": [
    "all_Features,Label=PreprocessData(all_df)"
   ]
  },
  {
   "cell_type": "code",
   "execution_count": 9,
   "metadata": {},
   "outputs": [],
   "source": [
    "all_probability=model.predict(all_Features)\n"
   ]
  },
  {
   "cell_type": "code",
   "execution_count": 10,
   "metadata": {},
   "outputs": [
    {
     "name": "stdout",
     "output_type": "stream",
     "text": [
      "[[0.7200347 ]\n",
      " [0.247422  ]\n",
      " [0.9999044 ]\n",
      " [0.99936503]\n",
      " [0.7200347 ]\n",
      " [0.9991297 ]\n",
      " [0.99564785]\n",
      " [0.99993134]\n",
      " [0.99961483]\n",
      " [0.9998404 ]\n",
      " [0.99007213]\n",
      " [0.6685546 ]\n",
      " [0.9999976 ]]\n"
     ]
    }
   ],
   "source": [
    "print(all_probability[:13])"
   ]
  },
  {
   "cell_type": "code",
   "execution_count": 11,
   "metadata": {},
   "outputs": [],
   "source": [
    "pd=all_df\n",
    "pd.insert(len(all_df.columns),\n",
    "          'probability',all_probability)"
   ]
  },
  {
   "cell_type": "code",
   "execution_count": 12,
   "metadata": {},
   "outputs": [
    {
     "data": {
      "text/html": [
       "<div>\n",
       "<style scoped>\n",
       "    .dataframe tbody tr th:only-of-type {\n",
       "        vertical-align: middle;\n",
       "    }\n",
       "\n",
       "    .dataframe tbody tr th {\n",
       "        vertical-align: top;\n",
       "    }\n",
       "\n",
       "    .dataframe thead th {\n",
       "        text-align: right;\n",
       "    }\n",
       "</style>\n",
       "<table border=\"1\" class=\"dataframe\">\n",
       "  <thead>\n",
       "    <tr style=\"text-align: right;\">\n",
       "      <th></th>\n",
       "      <th>suicide</th>\n",
       "      <th>sexuality</th>\n",
       "      <th>age</th>\n",
       "      <th>Education</th>\n",
       "      <th>rank</th>\n",
       "      <th>militaryservice</th>\n",
       "      <th>Time</th>\n",
       "      <th>testResult</th>\n",
       "      <th>hadSuicideMessage</th>\n",
       "      <th>confirmedDisease</th>\n",
       "      <th>emotionalProblems</th>\n",
       "      <th>mentalillness</th>\n",
       "      <th>familySuicideHistory</th>\n",
       "      <th>familyMembers</th>\n",
       "      <th>workplacePressure</th>\n",
       "      <th>EconomicIssues</th>\n",
       "      <th>personalPressure</th>\n",
       "      <th>probability</th>\n",
       "    </tr>\n",
       "  </thead>\n",
       "  <tbody>\n",
       "    <tr>\n",
       "      <th>1239</th>\n",
       "      <td>0</td>\n",
       "      <td>1</td>\n",
       "      <td>28</td>\n",
       "      <td>2</td>\n",
       "      <td>0</td>\n",
       "      <td>1</td>\n",
       "      <td>0</td>\n",
       "      <td>3</td>\n",
       "      <td>0</td>\n",
       "      <td>0</td>\n",
       "      <td>1</td>\n",
       "      <td>0</td>\n",
       "      <td>0</td>\n",
       "      <td>0</td>\n",
       "      <td>0</td>\n",
       "      <td>0</td>\n",
       "      <td>0</td>\n",
       "      <td>0.999689</td>\n",
       "    </tr>\n",
       "  </tbody>\n",
       "</table>\n",
       "</div>"
      ],
      "text/plain": [
       "      suicide  sexuality  age  Education  rank  militaryservice  Time  \\\n",
       "1239        0          1   28          2     0                1     0   \n",
       "\n",
       "      testResult  hadSuicideMessage  confirmedDisease  emotionalProblems  \\\n",
       "1239           3                  0                 0                  1   \n",
       "\n",
       "      mentalillness  familySuicideHistory  familyMembers  workplacePressure  \\\n",
       "1239              0                     0              0                  0   \n",
       "\n",
       "      EconomicIssues  personalPressure  probability  \n",
       "1239               0                 0     0.999689  "
      ]
     },
     "execution_count": 12,
     "metadata": {},
     "output_type": "execute_result"
    }
   ],
   "source": [
    "pd[-1:]"
   ]
  },
  {
   "cell_type": "code",
   "execution_count": null,
   "metadata": {},
   "outputs": [],
   "source": []
  },
  {
   "cell_type": "code",
   "execution_count": null,
   "metadata": {},
   "outputs": [],
   "source": []
  }
 ],
 "metadata": {
  "kernelspec": {
   "display_name": "Python 3",
   "language": "python",
   "name": "python3"
  },
  "language_info": {
   "codemirror_mode": {
    "name": "ipython",
    "version": 3
   },
   "file_extension": ".py",
   "mimetype": "text/x-python",
   "name": "python",
   "nbconvert_exporter": "python",
   "pygments_lexer": "ipython3",
   "version": "3.6.8"
  }
 },
 "nbformat": 4,
 "nbformat_minor": 2
}
